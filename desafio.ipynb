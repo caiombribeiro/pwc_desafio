{
 "cells": [
  {
   "cell_type": "markdown",
   "metadata": {},
   "source": [
    "# Endereço\n",
    "\n",
    "Um provedor de endereços retorna endereços apenas com ruas concatenadas, nomes e números em uma única string. Nosso próprio sistema, por outro lado, tem campos específicos para armazenar o nome da rua e o número da rua.\n",
    "\n",
    "Portanto, se faz necessário escrever um código simples que processe a entrada e retorne esses campos na saída.\n",
    "\n",
    "Entrada: string de endereço com os dados concatenados.\n",
    "Saída: string da rua e string do número da rua.\n",
    "\n",
    "### Casos Simples:\n",
    "a. “Miritiba 339” -> {“Miritiba”, “339”}\n",
    "\n",
    "b. “Babaçu 500” -> { “Babaçu”, “500”}\n",
    "\n",
    "c. “Cambuí 804B” -> {“Cambuí”, “123B”}\n",
    "\n",
    "### Considere os casos mais complicados:\n",
    "a. “Rio Branco 23” -> {“Rio Branco”, “23”}\n",
    "\n",
    "b. “Quirino dos Santos 23 b” -> {“Quirino dos Santos”, ”23 b”}\n",
    "\n",
    "### Considere endereços de outros países (casos complexos)\n",
    "a. “4, Rue de la République” -> {\"Rue de la République\", \"4\"}\n",
    "\n",
    "b. “100 Broadway Av” -> {\"Broadway Av\", \"100\"}\n",
    "\n",
    "c. “Calle Sagasta, 26” -> {“Calle Sagasta”, “26”}\n",
    "\n",
    "d. “Calle 44 No 1991” -> {“Calle 44”, “No 1991”}\n"
   ]
  },
  {
   "cell_type": "markdown",
   "metadata": {},
   "source": [
    "# Resolução"
   ]
  },
  {
   "cell_type": "code",
   "execution_count": 100,
   "metadata": {},
   "outputs": [],
   "source": [
    "casos_simples = [\"Miritiba 339\",\"Babaçu 500\",\"Cambuí 804B\",\"33 Broadway\"]\n",
    "casos_complicados = [\"Rio Branco 23\",\"Quirino dos Santos 23 b\"]\n",
    "outros_paises = [\"4, Rue de la République\",\"100 Broadway Av\",\"Calle Sagasta, 26\",\"Calle 44 No 1991\"]"
   ]
  },
  {
   "cell_type": "code",
   "execution_count": 254,
   "metadata": {},
   "outputs": [],
   "source": [
    "def armazenar_endereco(endereco):\n",
    "    #Separação da palavra em lista e remoção da vírgula\n",
    "    endereco_separado = endereco.split(\" \")\n",
    "    endereco_separado = [e.replace(\",\",\"\") for e in endereco_separado]\n",
    "\n",
    "\n",
    "    # Casos Simples - Se a lista tiver menos de 2 itens, ela retorna a lista normal ou revertida caso o número venha primeiro\n",
    "    if len(endereco_separado) == 2:\n",
    "        if endereco_separado[0].isdigit() == False:\n",
    "            return endereco_separado\n",
    "        else:\n",
    "            return list(reversed(endereco_separado))\n",
    "    else:\n",
    "        # Aqui eu contarei quantas vezes algum número aparece. Se for mais de uma, terá uma tratativa diferente\n",
    "        contador = sum(1 for e in endereco_separado if e.isdigit())\n",
    "\n",
    "        conjunto_final = []\n",
    "\n",
    "        if contador == 1:\n",
    "            # Se o contador for 1 e o primeiro campo for digito, ele irá jogar o digito no último campo\n",
    "            if endereco_separado[0].isdigit():\n",
    "                logradouro = \" \".join([e for e in endereco_separado if e.isdigit() == False])\n",
    "                num_string = \"\".join([e for e in endereco_separado if e.isdigit()])\n",
    "                conjunto_final.append(logradouro)\n",
    "                conjunto_final.append(num_string)\n",
    "            \n",
    "            # Se o contador for 1 e o primeiro campo não for digito, ele irá concatenar o logradouro até achar o campo que for digito\n",
    "            else:\n",
    "                logradouro = \"\"\n",
    "                indice = -1\n",
    "                \n",
    "                for e in endereco_separado:\n",
    "                    indice += 1\n",
    "                    if e.isdigit():\n",
    "                        break\n",
    "                    elif logradouro == \"\":\n",
    "                        logradouro += e\n",
    "                    else: \n",
    "                        logradouro += f\" {e}\"\n",
    "                num_string = \" \".join(endereco_separado[indice:])\n",
    "                conjunto_final.append(logradouro)\n",
    "                conjunto_final.append(num_string)\n",
    "\n",
    "            return conjunto_final\n",
    "            \n",
    "        else:\n",
    "            return contador\n",
    "  "
   ]
  },
  {
   "cell_type": "markdown",
   "metadata": {},
   "source": [
    "# Exemplos"
   ]
  },
  {
   "cell_type": "code",
   "execution_count": 256,
   "metadata": {},
   "outputs": [
    {
     "name": "stdout",
     "output_type": "stream",
     "text": [
      "['Miritiba', '339']\n",
      "['Babaçu', '500']\n",
      "['Cambuí', '804B']\n",
      "['Broadway', '33']\n"
     ]
    }
   ],
   "source": [
    "for caso in casos_simples:\n",
    "    print(armazenar_endereco(caso))"
   ]
  },
  {
   "cell_type": "code",
   "execution_count": 258,
   "metadata": {},
   "outputs": [
    {
     "name": "stdout",
     "output_type": "stream",
     "text": [
      "['Rio Branco', '23']\n",
      "['Quirino dos Santos', '23 b']\n"
     ]
    }
   ],
   "source": [
    "for caso in casos_complicados:\n",
    "    print(armazenar_endereco(caso))"
   ]
  },
  {
   "cell_type": "code",
   "execution_count": 260,
   "metadata": {},
   "outputs": [
    {
     "name": "stdout",
     "output_type": "stream",
     "text": [
      "['Rue de la République', '4']\n",
      "['Broadway Av', '100']\n",
      "['Calle Sagasta', '26']\n",
      "2\n"
     ]
    }
   ],
   "source": [
    "for caso in outros_paises:\n",
    "    print(armazenar_endereco(caso))"
   ]
  }
 ],
 "metadata": {
  "kernelspec": {
   "display_name": "base",
   "language": "python",
   "name": "python3"
  },
  "language_info": {
   "codemirror_mode": {
    "name": "ipython",
    "version": 3
   },
   "file_extension": ".py",
   "mimetype": "text/x-python",
   "name": "python",
   "nbconvert_exporter": "python",
   "pygments_lexer": "ipython3",
   "version": "3.10.11"
  }
 },
 "nbformat": 4,
 "nbformat_minor": 2
}
